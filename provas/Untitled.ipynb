{
 "cells": [
  {
   "cell_type": "markdown",
   "metadata": {},
   "source": [
    "1.  ($0{,}25$pts) Escreva uma matriz hermitiana $3\\times 3$ cujos\n",
    "    elementos sejam todos não-nulos mas que não sejam todos reais.\n",
    "\n",
    "2.  ($0{,}25$pts) Escreva uma matriz triangular superior $4\\times 4$ não\n",
    "    diagonal cujo traço seja $5$.\n",
    "\n",
    "3.  ($0,25$pts) Escreva a matriz $\\mathbf a$ de ordem $3\\times 3$ cujos\n",
    "    elementos são dados por $$a_{ij}=(i^2+j^2-1)\\delta_{ij}\\,,$$ em que\n",
    "    $\\delta_{ij}$ é o símbolo de Kronecker.\n",
    "\n",
    "4.  ($0{,}75$pts) Dadas as matrizes $$\\mathbf a=\\begin{bmatrix}\n",
    "        4&5&3\\\\\n",
    "        -2&1&0\n",
    "      \\end{bmatrix}\\,,\\quad \\mathbf b=\\begin{bmatrix}\n",
    "        0&-2&0\\\\\n",
    "        2&0&2\n",
    "      \\end{bmatrix}\\quad\\text{e}\\quad \\mathbf c=\\begin{bmatrix}\n",
    "          0&-2&0\\\\\n",
    "          -1&0&1\n",
    "      \\end{bmatrix}\\,,$$ calcule (a)\n",
    "    $2\\mathbf a-\\mathbf b+3\\mathbf c$, (b) $\\mathbf b\\mathbf a^T$, (c)\n",
    "    $\\mathbf a^T\\mathbf b+\\mathbf a^T\\mathbf c$.\n",
    "\n",
    "5.  ($0{,}75$pts) Usando o método de eliminação mostre que o seguinte\n",
    "    sistema linear tem a lista $(1,1,1)$ como a sua única solução:\n",
    "    $$\\begin{split}\n",
    "          3x-y+z&=3\\\\\n",
    "          -x+5y-z&=3\\\\\n",
    "          x+2y-z&=2\\,.\n",
    "        \\end{split}$$\n",
    "\n",
    "6.  ($0{,}75$pts) Determine a inversa da matriz $$\\begin{bmatrix}\n",
    "          6&2&5\\\\\n",
    "          2&1&2\\\\\n",
    "          -1&2&2\n",
    "      \\end{bmatrix}\\,.$$"
   ]
  },
  {
   "cell_type": "code",
   "execution_count": null,
   "metadata": {},
   "outputs": [],
   "source": []
  }
 ],
 "metadata": {
  "kernelspec": {
   "display_name": "Python 3",
   "language": "python",
   "name": "python3"
  },
  "language_info": {
   "codemirror_mode": {
    "name": "ipython",
    "version": 3
   },
   "file_extension": ".py",
   "mimetype": "text/x-python",
   "name": "python",
   "nbconvert_exporter": "python",
   "pygments_lexer": "ipython3",
   "version": "3.7.3"
  }
 },
 "nbformat": 4,
 "nbformat_minor": 4
}
